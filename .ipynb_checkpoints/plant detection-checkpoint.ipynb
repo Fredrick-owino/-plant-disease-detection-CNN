{
 "cells": [
  {
   "cell_type": "markdown",
   "id": "221e2870-86af-4077-a7c1-1ba1ec29fd4b",
   "metadata": {},
   "source": [
    "## Importing libraries"
   ]
  },
  {
   "cell_type": "code",
   "execution_count": 1,
   "id": "34902670-6786-47bd-9985-9c04943bd431",
   "metadata": {
    "scrolled": true
   },
   "outputs": [
    {
     "name": "stdout",
     "output_type": "stream",
     "text": [
      "WARNING:tensorflow:From D:\\ANACONDA3\\envs\\wireber\\lib\\site-packages\\keras\\src\\losses.py:2976: The name tf.losses.sparse_softmax_cross_entropy is deprecated. Please use tf.compat.v1.losses.sparse_softmax_cross_entropy instead.\n",
      "\n"
     ]
    }
   ],
   "source": [
    "import tensorflow as tf\n",
    "import matplotlib.pyplot as plt\n",
    "import pandas as pd\n",
    "import seaborn as sns"
   ]
  },
  {
   "cell_type": "markdown",
   "id": "c4d3ca3b-0a3b-45a3-973f-b02f157cfaef",
   "metadata": {},
   "source": [
    "## Data Processing"
   ]
  },
  {
   "cell_type": "markdown",
   "id": "5d1b789f-47d9-46e4-a556-030763a69dd4",
   "metadata": {},
   "source": [
    "### Training image processing"
   ]
  },
  {
   "cell_type": "code",
   "execution_count": 2,
   "id": "f032ae1d-178f-4dbc-97ca-636766356757",
   "metadata": {},
   "outputs": [
    {
     "name": "stdout",
     "output_type": "stream",
     "text": [
      "Found 70295 files belonging to 38 classes.\n"
     ]
    }
   ],
   "source": [
    "training_set = tf.keras.utils.image_dataset_from_directory(\n",
    "   'train',\n",
    "    labels=\"inferred\",\n",
    "    label_mode=\"categorical\",\n",
    "    class_names=None,\n",
    "    color_mode=\"rgb\",\n",
    "    batch_size=32,\n",
    "    image_size=(128, 128),\n",
    "    shuffle=True,\n",
    "    seed=None,\n",
    "    validation_split=None,\n",
    "    subset=None,\n",
    "    interpolation=\"bilinear\",\n",
    "    follow_links=False,\n",
    "    crop_to_aspect_ratio=False,\n",
    "\n",
    ")"
   ]
  },
  {
   "cell_type": "code",
   "execution_count": 3,
   "id": "e90816bb-2c32-437e-af55-9c0931092c77",
   "metadata": {},
   "outputs": [
    {
     "name": "stdout",
     "output_type": "stream",
     "text": [
      "Found 17572 files belonging to 38 classes.\n"
     ]
    }
   ],
   "source": [
    "validation_set = tf.keras.utils.image_dataset_from_directory(\n",
    "   'valid',\n",
    "    labels=\"inferred\",\n",
    "    label_mode=\"categorical\",\n",
    "    class_names=None,\n",
    "    color_mode=\"rgb\",\n",
    "    batch_size=32,\n",
    "    image_size=(128, 128),\n",
    "    shuffle=True,\n",
    "    seed=None,\n",
    "    validation_split=None,\n",
    "    subset=None,\n",
    "    interpolation=\"bilinear\",\n",
    "    follow_links=False,\n",
    "    crop_to_aspect_ratio=False,\n",
    "\n",
    ")"
   ]
  },
  {
   "cell_type": "code",
   "execution_count": 4,
   "id": "50715aab-afeb-4dd2-9281-bb158f8c2b9d",
   "metadata": {},
   "outputs": [
    {
     "data": {
      "text/plain": [
       "<_PrefetchDataset element_spec=(TensorSpec(shape=(None, 128, 128, 3), dtype=tf.float32, name=None), TensorSpec(shape=(None, 38), dtype=tf.float32, name=None))>"
      ]
     },
     "execution_count": 4,
     "metadata": {},
     "output_type": "execute_result"
    }
   ],
   "source": [
    "training_set\n"
   ]
  },
  {
   "cell_type": "code",
   "execution_count": 5,
   "id": "cfc58a52-ee6e-4b82-9e44-28407df3003a",
   "metadata": {},
   "outputs": [
    {
     "name": "stdout",
     "output_type": "stream",
     "text": [
      "tf.Tensor(\n",
      "[[[[108.25 101.25  99.75]\n",
      "   [105.5   97.75  96.25]\n",
      "   [102.5   95.5   94.  ]\n",
      "   ...\n",
      "   [ 99.25  91.25  88.75]\n",
      "   [101.5   92.5   90.  ]\n",
      "   [ 99.    91.    88.5 ]]\n",
      "\n",
      "  [[213.   205.   202.  ]\n",
      "   [206.75 198.75 195.75]\n",
      "   [202.75 194.75 191.75]\n",
      "   ...\n",
      "   [190.25 181.25 176.25]\n",
      "   [188.5  179.5  174.5 ]\n",
      "   [191.   182.   177.  ]]\n",
      "\n",
      "  [[209.25 201.25 198.25]\n",
      "   [205.   197.   194.  ]\n",
      "   [198.   190.   187.  ]\n",
      "   ...\n",
      "   [195.   186.   181.  ]\n",
      "   [192.5  183.5  178.5 ]\n",
      "   [195.75 186.75 181.75]]\n",
      "\n",
      "  ...\n",
      "\n",
      "  [[216.5  208.5  205.5 ]\n",
      "   [216.5  208.5  205.5 ]\n",
      "   [213.5  205.5  202.5 ]\n",
      "   ...\n",
      "   [218.   207.   201.  ]\n",
      "   [218.   207.   201.  ]\n",
      "   [218.75 207.75 201.75]]\n",
      "\n",
      "  [[213.   205.   202.  ]\n",
      "   [212.75 204.75 201.75]\n",
      "   [209.75 201.75 198.75]\n",
      "   ...\n",
      "   [220.25 209.25 203.25]\n",
      "   [219.   208.   202.  ]\n",
      "   [217.75 206.75 200.75]]\n",
      "\n",
      "  [[214.75 206.75 203.75]\n",
      "   [214.75 206.75 203.75]\n",
      "   [211.75 203.75 200.75]\n",
      "   ...\n",
      "   [218.25 207.25 201.25]\n",
      "   [216.75 205.75 199.75]\n",
      "   [217.   206.   200.  ]]]\n",
      "\n",
      "\n",
      " [[[ 44.25  57.75  34.75]\n",
      "   [ 60.5   79.5   34.  ]\n",
      "   [ 59.    79.5   24.5 ]\n",
      "   ...\n",
      "   [181.5  171.5  169.5 ]\n",
      "   [181.   171.   169.  ]\n",
      "   [188.25 178.25 176.25]]\n",
      "\n",
      "  [[ 21.    34.25  11.5 ]\n",
      "   [ 73.    92.    46.5 ]\n",
      "   [ 80.25 100.75  45.75]\n",
      "   ...\n",
      "   [183.75 173.75 171.75]\n",
      "   [189.   179.   177.  ]\n",
      "   [190.25 180.25 178.25]]\n",
      "\n",
      "  [[ 37.5   51.75  28.  ]\n",
      "   [ 47.5   66.5   21.  ]\n",
      "   [ 54.25  74.75  22.5 ]\n",
      "   ...\n",
      "   [184.5  174.5  172.5 ]\n",
      "   [188.5  178.5  176.5 ]\n",
      "   [187.25 177.25 175.25]]\n",
      "\n",
      "  ...\n",
      "\n",
      "  [[ 70.25  58.75  58.75]\n",
      "   [122.5  110.5  110.5 ]\n",
      "   [129.   115.   115.  ]\n",
      "   ...\n",
      "   [202.75 194.75 192.75]\n",
      "   [204.5  196.5  194.5 ]\n",
      "   [206.25 198.25 196.25]]\n",
      "\n",
      "  [[ 74.    63.    63.  ]\n",
      "   [131.25 119.25 119.25]\n",
      "   [140.75 126.75 126.75]\n",
      "   ...\n",
      "   [203.   195.   193.  ]\n",
      "   [204.5  196.5  194.5 ]\n",
      "   [204.75 196.75 194.75]]\n",
      "\n",
      "  [[ 71.    60.    60.  ]\n",
      "   [128.   116.   116.  ]\n",
      "   [129.5  115.5  115.5 ]\n",
      "   ...\n",
      "   [204.75 196.75 194.75]\n",
      "   [206.25 198.25 196.25]\n",
      "   [205.   197.   195.  ]]]\n",
      "\n",
      "\n",
      " [[[120.5  111.5  114.5 ]\n",
      "   [120.25 111.25 114.25]\n",
      "   [115.   106.   109.  ]\n",
      "   ...\n",
      "   [162.25 156.25 158.25]\n",
      "   [160.   154.   156.  ]\n",
      "   [157.75 151.75 153.75]]\n",
      "\n",
      "  [[124.5  115.5  118.5 ]\n",
      "   [124.5  115.5  118.5 ]\n",
      "   [118.75 109.75 112.75]\n",
      "   ...\n",
      "   [158.   152.   154.  ]\n",
      "   [160.5  154.5  156.5 ]\n",
      "   [164.75 158.75 160.75]]\n",
      "\n",
      "  [[113.5  104.5  107.5 ]\n",
      "   [116.25 107.25 110.25]\n",
      "   [123.   114.   117.  ]\n",
      "   ...\n",
      "   [162.5  156.5  158.5 ]\n",
      "   [159.75 153.75 155.75]\n",
      "   [153.25 147.25 149.25]]\n",
      "\n",
      "  ...\n",
      "\n",
      "  [[139.25 133.25 137.25]\n",
      "   [142.25 136.25 140.25]\n",
      "   [146.   140.   144.  ]\n",
      "   ...\n",
      "   [172.   167.   173.  ]\n",
      "   [181.75 176.75 182.75]\n",
      "   [188.   183.   189.  ]]\n",
      "\n",
      "  [[139.25 133.25 137.25]\n",
      "   [141.   135.   139.  ]\n",
      "   [149.5  143.5  147.5 ]\n",
      "   ...\n",
      "   [179.75 174.75 180.75]\n",
      "   [183.5  178.5  184.5 ]\n",
      "   [179.   174.   180.  ]]\n",
      "\n",
      "  [[138.25 132.25 136.25]\n",
      "   [142.   136.   140.  ]\n",
      "   [144.   138.   142.  ]\n",
      "   ...\n",
      "   [178.75 173.75 179.75]\n",
      "   [180.   175.   181.  ]\n",
      "   [169.25 164.25 170.25]]]\n",
      "\n",
      "\n",
      " ...\n",
      "\n",
      "\n",
      " [[[168.25 158.25 167.25]\n",
      "   [170.   160.   169.  ]\n",
      "   [174.75 164.75 173.75]\n",
      "   ...\n",
      "   [189.25 182.25 190.25]\n",
      "   [185.   178.   186.  ]\n",
      "   [188.   181.   189.  ]]\n",
      "\n",
      "  [[163.   153.   162.  ]\n",
      "   [163.5  153.5  162.5 ]\n",
      "   [172.25 162.25 171.25]\n",
      "   ...\n",
      "   [190.5  183.5  191.5 ]\n",
      "   [187.25 180.25 188.25]\n",
      "   [187.5  180.5  188.5 ]]\n",
      "\n",
      "  [[177.25 167.25 176.25]\n",
      "   [178.25 168.25 177.25]\n",
      "   [180.   170.   179.  ]\n",
      "   ...\n",
      "   [189.5  182.5  190.5 ]\n",
      "   [188.25 181.25 189.25]\n",
      "   [189.5  182.5  190.5 ]]\n",
      "\n",
      "  ...\n",
      "\n",
      "  [[148.5  138.5  147.5 ]\n",
      "   [146.25 136.25 145.25]\n",
      "   [144.25 134.25 143.25]\n",
      "   ...\n",
      "   [173.25 163.25 172.25]\n",
      "   [176.   166.   175.  ]\n",
      "   [174.   164.   173.  ]]\n",
      "\n",
      "  [[138.75 128.75 137.75]\n",
      "   [135.25 125.25 134.25]\n",
      "   [146.25 136.25 145.25]\n",
      "   ...\n",
      "   [158.5  148.5  157.5 ]\n",
      "   [173.   163.   172.  ]\n",
      "   [174.5  164.5  173.5 ]]\n",
      "\n",
      "  [[140.75 130.75 139.75]\n",
      "   [134.5  124.5  133.5 ]\n",
      "   [133.   123.   132.  ]\n",
      "   ...\n",
      "   [160.75 150.75 159.75]\n",
      "   [172.25 162.25 171.25]\n",
      "   [188.25 178.25 187.25]]]\n",
      "\n",
      "\n",
      " [[[145.   134.   132.  ]\n",
      "   [142.   131.   129.  ]\n",
      "   [150.25 139.25 137.25]\n",
      "   ...\n",
      "   [165.   157.   154.  ]\n",
      "   [177.25 169.25 166.25]\n",
      "   [183.75 175.75 172.75]]\n",
      "\n",
      "  [[137.75 126.75 124.75]\n",
      "   [139.   128.   126.  ]\n",
      "   [149.25 138.25 136.25]\n",
      "   ...\n",
      "   [182.25 174.25 171.25]\n",
      "   [176.5  168.5  165.5 ]\n",
      "   [179.   171.   168.  ]]\n",
      "\n",
      "  [[150.75 139.75 137.75]\n",
      "   [153.   142.   140.  ]\n",
      "   [152.   141.   139.  ]\n",
      "   ...\n",
      "   [175.   167.   164.  ]\n",
      "   [186.75 178.75 175.75]\n",
      "   [184.75 176.75 173.75]]\n",
      "\n",
      "  ...\n",
      "\n",
      "  [[128.5  114.5  111.5 ]\n",
      "   [127.75 113.75 110.75]\n",
      "   [141.5  127.5  124.5 ]\n",
      "   ...\n",
      "   [145.75 135.75 133.75]\n",
      "   [134.75 124.75 122.75]\n",
      "   [152.25 142.25 140.25]]\n",
      "\n",
      "  [[133.5  119.5  116.5 ]\n",
      "   [121.   107.   104.  ]\n",
      "   [135.5  121.5  118.5 ]\n",
      "   ...\n",
      "   [145.5  135.5  133.5 ]\n",
      "   [144.   134.   132.  ]\n",
      "   [143.   133.   131.  ]]\n",
      "\n",
      "  [[125.5  111.5  108.5 ]\n",
      "   [134.75 120.75 117.75]\n",
      "   [133.75 119.75 116.75]\n",
      "   ...\n",
      "   [145.   135.   133.  ]\n",
      "   [155.75 145.75 143.75]\n",
      "   [136.5  126.5  124.5 ]]]\n",
      "\n",
      "\n",
      " [[[ 95.75  92.75  83.75]\n",
      "   [103.25 100.25  91.25]\n",
      "   [103.75 100.75  91.75]\n",
      "   ...\n",
      "   [170.5  171.5  165.5 ]\n",
      "   [174.   175.   169.  ]\n",
      "   [168.75 169.75 163.75]]\n",
      "\n",
      "  [[104.75 101.75  92.75]\n",
      "   [101.75  98.75  89.75]\n",
      "   [103.75 100.75  91.75]\n",
      "   ...\n",
      "   [165.75 166.75 160.75]\n",
      "   [165.5  166.5  160.5 ]\n",
      "   [163.75 164.75 158.75]]\n",
      "\n",
      "  [[104.25 101.25  92.25]\n",
      "   [103.   100.    91.  ]\n",
      "   [112.75 109.75 100.75]\n",
      "   ...\n",
      "   [169.25 170.25 164.25]\n",
      "   [166.5  167.5  161.5 ]\n",
      "   [166.5  167.5  161.5 ]]\n",
      "\n",
      "  ...\n",
      "\n",
      "  [[114.5  115.5  109.5 ]\n",
      "   [115.   116.   110.  ]\n",
      "   [124.75 125.75 119.75]\n",
      "   ...\n",
      "   [160.   167.   160.  ]\n",
      "   [172.5  179.5  172.5 ]\n",
      "   [167.5  174.5  167.5 ]]\n",
      "\n",
      "  [[117.5  118.5  112.5 ]\n",
      "   [122.   123.   117.  ]\n",
      "   [127.5  128.5  122.5 ]\n",
      "   ...\n",
      "   [164.   171.   164.  ]\n",
      "   [166.75 173.75 166.75]\n",
      "   [163.5  170.5  163.5 ]]\n",
      "\n",
      "  [[108.   109.   103.  ]\n",
      "   [111.25 112.25 106.25]\n",
      "   [119.   120.   114.  ]\n",
      "   ...\n",
      "   [153.25 160.25 153.25]\n",
      "   [170.25 177.25 170.25]\n",
      "   [158.5  165.5  158.5 ]]]], shape=(32, 128, 128, 3), dtype=float32) (32, 128, 128, 3)\n",
      "tf.Tensor(\n",
      "[[0. 0. 0. ... 0. 0. 0.]\n",
      " [0. 0. 0. ... 0. 0. 0.]\n",
      " [0. 0. 0. ... 0. 0. 0.]\n",
      " ...\n",
      " [0. 0. 0. ... 0. 0. 0.]\n",
      " [0. 0. 0. ... 0. 0. 0.]\n",
      " [0. 0. 0. ... 1. 0. 0.]], shape=(32, 38), dtype=float32) (32, 38)\n"
     ]
    }
   ],
   "source": [
    "for x,y in training_set:\n",
    "    print(x,x.shape)\n",
    "    print(y,y.shape)\n",
    "    break"
   ]
  },
  {
   "cell_type": "markdown",
   "id": "5e6467fc-50e2-4936-8887-d95fb0ca2529",
   "metadata": {},
   "source": [
    "## Building Models"
   ]
  },
  {
   "cell_type": "code",
   "execution_count": 6,
   "id": "d29b83af-7616-47f0-986c-df4ae52124d3",
   "metadata": {},
   "outputs": [],
   "source": [
    "from tensorflow.keras.layers import Dense,Conv2D,MaxPool2D,Flatten,Dropout\n",
    "from tensorflow.keras.models import Sequential"
   ]
  },
  {
   "cell_type": "code",
   "execution_count": 7,
   "id": "c570bec0-4ef2-4d89-b82b-252dfb648c46",
   "metadata": {},
   "outputs": [
    {
     "name": "stdout",
     "output_type": "stream",
     "text": [
      "WARNING:tensorflow:From D:\\ANACONDA3\\envs\\wireber\\lib\\site-packages\\keras\\src\\backend.py:873: The name tf.get_default_graph is deprecated. Please use tf.compat.v1.get_default_graph instead.\n",
      "\n"
     ]
    }
   ],
   "source": [
    "model = Sequential()"
   ]
  },
  {
   "cell_type": "code",
   "execution_count": 8,
   "id": "793057d2-2578-457c-a970-42bddc6f1c18",
   "metadata": {},
   "outputs": [],
   "source": [
    "## Building Convolutional Layers"
   ]
  },
  {
   "cell_type": "code",
   "execution_count": 9,
   "id": "1f315127-232e-4793-8cf2-061376bc0570",
   "metadata": {},
   "outputs": [
    {
     "name": "stdout",
     "output_type": "stream",
     "text": [
      "WARNING:tensorflow:From D:\\ANACONDA3\\envs\\wireber\\lib\\site-packages\\keras\\src\\layers\\pooling\\max_pooling2d.py:161: The name tf.nn.max_pool is deprecated. Please use tf.nn.max_pool2d instead.\n",
      "\n"
     ]
    }
   ],
   "source": [
    "model.add(Conv2D(filters=32,kernel_size=3,padding='same',activation='relu',input_shape=[128, 128, 3]))\n",
    "model.add(Conv2D(filters=32,kernel_size=3,activation='relu'))\n",
    "model.add(MaxPool2D(pool_size=2,strides=2))"
   ]
  },
  {
   "cell_type": "code",
   "execution_count": 10,
   "id": "27ad0828-3ada-42e4-a6ee-3f60a0c1cb68",
   "metadata": {},
   "outputs": [],
   "source": [
    "model.add(Conv2D(filters=64,kernel_size=3,padding='same',activation='relu'))\n",
    "model.add(Conv2D(filters=64,kernel_size=3,activation='relu'))\n",
    "model.add(MaxPool2D(pool_size=2,strides=2))"
   ]
  },
  {
   "cell_type": "code",
   "execution_count": 11,
   "id": "2a50ccb4-e604-491a-85ba-2824ca4e7f2c",
   "metadata": {},
   "outputs": [],
   "source": [
    "model.add(Conv2D(filters=128,kernel_size=3,padding='same',activation='relu'))\n",
    "model.add(Conv2D(filters=128,kernel_size=3,activation='relu'))\n",
    "model.add(MaxPool2D(pool_size=2,strides=2))"
   ]
  },
  {
   "cell_type": "code",
   "execution_count": 12,
   "id": "9587e6bb-254f-4aaa-b9ec-e53aac2580d9",
   "metadata": {},
   "outputs": [],
   "source": [
    "model.add(Conv2D(filters=256,kernel_size=3,padding='same',activation='relu'))\n",
    "model.add(Conv2D(filters=256,kernel_size=3,activation='relu'))\n",
    "model.add(MaxPool2D(pool_size=2,strides=2))"
   ]
  },
  {
   "cell_type": "code",
   "execution_count": 13,
   "id": "dfe0f876-9024-4a11-8732-a9f2090150c4",
   "metadata": {},
   "outputs": [],
   "source": [
    "model.add(Conv2D(filters=512,kernel_size=3,padding='same',activation='relu'))\n",
    "model.add(Conv2D(filters=512,kernel_size=3,activation='relu'))\n",
    "model.add(MaxPool2D(pool_size=2,strides=2))"
   ]
  },
  {
   "cell_type": "code",
   "execution_count": 14,
   "id": "9f174911-bdaf-488e-9a0a-b74e6c5f921f",
   "metadata": {},
   "outputs": [],
   "source": [
    "model.add(Dropout(0.25))"
   ]
  },
  {
   "cell_type": "code",
   "execution_count": 15,
   "id": "2c5596f7-15f1-4423-9d64-fec92b04ab07",
   "metadata": {},
   "outputs": [],
   "source": [
    "model.add(Flatten())"
   ]
  },
  {
   "cell_type": "code",
   "execution_count": 16,
   "id": "8db51cf1-de19-4b23-a688-b5ca0462c4bc",
   "metadata": {},
   "outputs": [],
   "source": [
    "model.add(Dense(units=1500,activation='relu'))"
   ]
  },
  {
   "cell_type": "code",
   "execution_count": 17,
   "id": "bf955b2d-7979-4400-9807-4db096af178d",
   "metadata": {},
   "outputs": [],
   "source": [
    "model.add(Dropout(0.4))"
   ]
  },
  {
   "cell_type": "code",
   "execution_count": 18,
   "id": "7793b45c-d754-4b54-b0b3-b9ca76625eee",
   "metadata": {},
   "outputs": [],
   "source": [
    "## Output Layer\n",
    "model.add(Dense(units=38,activation='softmax'))"
   ]
  },
  {
   "cell_type": "markdown",
   "id": "c49c5651-8163-4f83-83a1-d24958a2c84c",
   "metadata": {},
   "source": [
    "## Compiling Model"
   ]
  },
  {
   "cell_type": "code",
   "execution_count": 19,
   "id": "f941bca8-7973-4590-b3b8-d1187397ec22",
   "metadata": {},
   "outputs": [],
   "source": [
    "model.compile(optimizer=tf.keras.optimizers.legacy.Adam(learning_rate=0.0001), \n",
    "              loss='categorical_crossentropy', \n",
    "              metrics=['accuracy'])"
   ]
  },
  {
   "cell_type": "raw",
   "id": "d78fe2b5-9620-4d9b-b2af-e8eea726b24b",
   "metadata": {},
   "source": [
    "model.summary()"
   ]
  },
  {
   "cell_type": "markdown",
   "id": "b41ad96c-62f7-4187-91ff-748729c135c1",
   "metadata": {},
   "source": [
    "## Model training"
   ]
  },
  {
   "cell_type": "code",
   "execution_count": null,
   "id": "0feda53e-d1e8-4cbf-a166-f7c651ec2889",
   "metadata": {},
   "outputs": [
    {
     "name": "stdout",
     "output_type": "stream",
     "text": [
      "Epoch 1/10\n",
      "WARNING:tensorflow:From D:\\ANACONDA3\\envs\\wireber\\lib\\site-packages\\keras\\src\\utils\\tf_utils.py:492: The name tf.ragged.RaggedTensorValue is deprecated. Please use tf.compat.v1.ragged.RaggedTensorValue instead.\n",
      "\n",
      "WARNING:tensorflow:From D:\\ANACONDA3\\envs\\wireber\\lib\\site-packages\\keras\\src\\engine\\base_layer_utils.py:384: The name tf.executing_eagerly_outside_functions is deprecated. Please use tf.compat.v1.executing_eagerly_outside_functions instead.\n",
      "\n",
      " 345/2197 [===>..........................] - ETA: 1:22:42 - loss: 3.1095 - accuracy: 0.1457"
     ]
    }
   ],
   "source": [
    "training_history = model.fit(x=training_set,validation_data=validation_set,epochs=10)"
   ]
  },
  {
   "cell_type": "code",
   "execution_count": null,
   "id": "b66b8811-f670-40f2-aea1-ac16e54cf7bf",
   "metadata": {},
   "outputs": [],
   "source": [
    "    "
   ]
  },
  {
   "cell_type": "markdown",
   "id": "cb6bf022-c393-4557-85d2-f61319c8819e",
   "metadata": {},
   "source": [
    "## Model evaluation"
   ]
  },
  {
   "cell_type": "code",
   "execution_count": null,
   "id": "421cd6e0-a910-4898-b415-99210758e12d",
   "metadata": {},
   "outputs": [],
   "source": [
    "train_loss,train_acc = model.evaluate(training_set)"
   ]
  },
  {
   "cell_type": "code",
   "execution_count": null,
   "id": "a8a9b856-28c0-4d8a-879a-a84760ebbae8",
   "metadata": {},
   "outputs": [],
   "source": [
    "print(train_loss,train_acc)"
   ]
  },
  {
   "cell_type": "code",
   "execution_count": null,
   "id": "0a894539-9e81-449c-8138-8e5dc3875035",
   "metadata": {},
   "outputs": [],
   "source": [
    "# Model Salidation Set"
   ]
  },
  {
   "cell_type": "code",
   "execution_count": null,
   "id": "1f35f60d-b10f-4dc9-a25c-3438fcccdc3b",
   "metadata": {},
   "outputs": [],
   "source": [
    "val_loss,Val_acc = model.evaluate(validation_set)"
   ]
  },
  {
   "cell_type": "code",
   "execution_count": null,
   "id": "e2a74b05-6589-42af-9c31-878390bbdf66",
   "metadata": {},
   "outputs": [],
   "source": [
    "print(val_loss,Val_acc)"
   ]
  },
  {
   "cell_type": "code",
   "execution_count": null,
   "id": "0eb423cb-7a35-42e8-a6cb-c7daeff89d8a",
   "metadata": {},
   "outputs": [],
   "source": []
  },
  {
   "cell_type": "markdown",
   "id": "6c11e959-3c6f-4b03-b2d3-2a9bd072cefe",
   "metadata": {},
   "source": [
    "## Saving Model"
   ]
  },
  {
   "cell_type": "code",
   "execution_count": null,
   "id": "2c2a22f6-669a-4e00-9ff0-6524fe3b9771",
   "metadata": {},
   "outputs": [],
   "source": [
    "model.save(\"trained_model.keras\")"
   ]
  },
  {
   "cell_type": "code",
   "execution_count": null,
   "id": "e8c43e49-de44-48de-9db1-a394e47540f0",
   "metadata": {},
   "outputs": [],
   "source": [
    "training_history.history"
   ]
  },
  {
   "cell_type": "code",
   "execution_count": null,
   "id": "e46f3e1f-13d8-441b-b566-1f1ff244e1a3",
   "metadata": {},
   "outputs": [],
   "source": [
    "##Recording history\n",
    "import json\n",
    "with open(\"training_hist.json\",\"w\") as f:\n",
    "    json.dump(training_history.history,f)"
   ]
  },
  {
   "cell_type": "code",
   "execution_count": null,
   "id": "2499d9be-8f4f-4001-aad6-2f75d34401c0",
   "metadata": {},
   "outputs": [],
   "source": [
    "training_history.history['accuracy']"
   ]
  },
  {
   "cell_type": "markdown",
   "id": "00208bd0-fb25-4e0d-a17f-7285b46a1654",
   "metadata": {},
   "source": [
    "## Accuracy Visualization"
   ]
  },
  {
   "cell_type": "code",
   "execution_count": null,
   "id": "614ad208-0176-4e5b-ac81-26101f7c2687",
   "metadata": {},
   "outputs": [],
   "source": [
    "epochs = [i for i in range(1,11)]\n",
    "plt.plot(epochs,training_history.history['accuracy'],color='red',label='training Accuracy')\n",
    "plt.plot(epochs,training_history.history['val_accuracy'],color='blue',label='validation Accuracy')\n",
    "plt.xlabel(\"No of Epochs\")\n",
    "plt.ylabel(\"acccurracy Result\")\n",
    "plt.title(\"Vsualization Of Accuracy Result\")\n",
    "plt.legend()\n",
    "plt.show()"
   ]
  },
  {
   "cell_type": "code",
   "execution_count": null,
   "id": "99ee59b0-727b-404d-bda8-0c66ff425a12",
   "metadata": {},
   "outputs": [],
   "source": []
  },
  {
   "cell_type": "markdown",
   "id": "c458c9d8-e4b3-473d-baa1-318fdacdba2d",
   "metadata": {},
   "source": [
    "## Metrics for model evaluation"
   ]
  },
  {
   "cell_type": "code",
   "execution_count": null,
   "id": "f2a73b40-e231-489e-a5f9-501927b614e6",
   "metadata": {},
   "outputs": [],
   "source": [
    "class_name = validation_set.class_names\n",
    "class_name"
   ]
  },
  {
   "cell_type": "code",
   "execution_count": null,
   "id": "ca3fff71-9f95-4ccb-8663-94596f08f39a",
   "metadata": {},
   "outputs": [],
   "source": []
  },
  {
   "cell_type": "code",
   "execution_count": null,
   "id": "e4f72d02-b266-4b1f-94b2-071826173e00",
   "metadata": {},
   "outputs": [],
   "source": [
    "test_set =  tf.keras.utils.image_dataset_from_directory(\n",
    "   'valid',\n",
    "    labels=\"inferred\",\n",
    "    label_mode=\"categorical\",\n",
    "    class_names=None,\n",
    "    color_mode=\"rgb\",\n",
    "    batch_size=32,\n",
    "    image_size=(128, 128),\n",
    "    shuffle=False,\n",
    "    seed=None,\n",
    "    validation_split=None,\n",
    "    subset=None,\n",
    "    interpolation=\"bilinear\",\n",
    "    follow_links=False,\n",
    "    crop_to_aspect_ratio=False,\n",
    "\n",
    ")"
   ]
  },
  {
   "cell_type": "code",
   "execution_count": null,
   "id": "0ea20e8f-0c81-498f-926d-ef5af3bdc8a1",
   "metadata": {},
   "outputs": [],
   "source": [
    "y_pred = model.predict(test_set)\n",
    "y_pred,y_pred.shape"
   ]
  },
  {
   "cell_type": "code",
   "execution_count": null,
   "id": "6945afe2-0b74-44e8-9006-a9ca637f484d",
   "metadata": {},
   "outputs": [],
   "source": [
    "predicted_categories = tf.argmax(y_pred,axis=1)"
   ]
  },
  {
   "cell_type": "code",
   "execution_count": null,
   "id": "26c0d5f3-8861-44f3-8415-09d3c1ce0e6e",
   "metadata": {},
   "outputs": [],
   "source": [
    "predicted_categories"
   ]
  },
  {
   "cell_type": "code",
   "execution_count": null,
   "id": "856c9eb5-0430-4025-8ea9-d846815d9990",
   "metadata": {},
   "outputs": [],
   "source": [
    "true_categories = tf.concat([y for x,y in test_set],axis=0)\n",
    "true_categories"
   ]
  },
  {
   "cell_type": "code",
   "execution_count": null,
   "id": "96717f4b-52dd-4cf7-b7bd-8101959edd62",
   "metadata": {},
   "outputs": [],
   "source": [
    "Y_true = tf.argmax(true_cartegories,axis=1)\n",
    "Y_true"
   ]
  },
  {
   "cell_type": "code",
   "execution_count": null,
   "id": "9ecb2709-def4-4593-a163-4683d98bbafa",
   "metadata": {},
   "outputs": [],
   "source": [
    "## precision recall"
   ]
  },
  {
   "cell_type": "code",
   "execution_count": null,
   "id": "193e7323-c4ac-4155-b7ea-bf5dfa5b105a",
   "metadata": {},
   "outputs": [],
   "source": [
    "from sklearn.metrics import classification_report,confusion_matrix\n",
    "print(classification_report(Y_true, predicted_categories, target_names=class_name))\n"
   ]
  },
  {
   "cell_type": "code",
   "execution_count": null,
   "id": "d7289ad6-9cb7-4610-baef-c44ac4879378",
   "metadata": {},
   "outputs": [],
   "source": [
    "cm =confusion_matrix(Y_true,predicted_categories)\n",
    "cm"
   ]
  },
  {
   "cell_type": "code",
   "execution_count": null,
   "id": "96aeeb8e-7e5a-456c-8f10-6fdef4372943",
   "metadata": {},
   "outputs": [],
   "source": []
  },
  {
   "cell_type": "markdown",
   "id": "2f024764-1c04-4423-bb5e-8c0556142fd3",
   "metadata": {},
   "source": [
    "### Confusion Matrix Visualization"
   ]
  },
  {
   "cell_type": "code",
   "execution_count": null,
   "id": "575024df-619d-492f-8dd5-bda96d472c6b",
   "metadata": {},
   "outputs": [],
   "source": [
    "plt.figure(figsize=(40,40))\n",
    "sns.heatmap(cm,annot=True,annot_kws={'size':10})\n",
    "plt.xlabel(\"Predicted Class\",fontsize=20)\n",
    "plt.ylabel(\"Actual Class\",fontsize=20)\n",
    "plt.title(\"Plant Disease Prediction Confusion Matrix\",fontsize=30)\n",
    "plt.show()"
   ]
  },
  {
   "cell_type": "code",
   "execution_count": null,
   "id": "44d30f03-d8c3-4d56-a16a-edc8277861d8",
   "metadata": {},
   "outputs": [],
   "source": []
  },
  {
   "cell_type": "code",
   "execution_count": null,
   "id": "799ee82f-5b31-4539-a455-fa19d68f61c3",
   "metadata": {},
   "outputs": [],
   "source": []
  },
  {
   "cell_type": "code",
   "execution_count": null,
   "id": "4a49be82-90bc-4f82-99b0-2eaa57c700cb",
   "metadata": {},
   "outputs": [],
   "source": []
  },
  {
   "cell_type": "code",
   "execution_count": null,
   "id": "75889018-7302-4e53-bfc3-8f33f60091d3",
   "metadata": {},
   "outputs": [],
   "source": []
  },
  {
   "cell_type": "code",
   "execution_count": null,
   "id": "83b35399-efc1-4792-a3a5-95cfd29e6618",
   "metadata": {},
   "outputs": [],
   "source": []
  },
  {
   "cell_type": "code",
   "execution_count": null,
   "id": "e86baa14-fd18-4e98-8dc7-2c8d4d0f146d",
   "metadata": {},
   "outputs": [],
   "source": []
  },
  {
   "cell_type": "code",
   "execution_count": null,
   "id": "a8f9b9f4-c3c4-41b4-b4ba-c21a3ce72250",
   "metadata": {},
   "outputs": [],
   "source": []
  }
 ],
 "metadata": {
  "kernelspec": {
   "display_name": "Python 3.10 (TensorFlow)",
   "language": "python",
   "name": "tf2.15"
  },
  "language_info": {
   "codemirror_mode": {
    "name": "ipython",
    "version": 3
   },
   "file_extension": ".py",
   "mimetype": "text/x-python",
   "name": "python",
   "nbconvert_exporter": "python",
   "pygments_lexer": "ipython3",
   "version": "3.10.12"
  }
 },
 "nbformat": 4,
 "nbformat_minor": 5
}
